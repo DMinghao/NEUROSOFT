{
  "nbformat": 4,
  "nbformat_minor": 0,
  "metadata": {
    "colab": {
      "name": "GPT-2 Text-Generating Model",
      "provenance": [],
      "collapsed_sections": [],
      "machine_shape": "hm"
    },
    "kernelspec": {
      "name": "python3",
      "display_name": "Python 3"
    },
    "accelerator": "GPU"
  },
  "cells": [
    {
      "cell_type": "markdown",
      "metadata": {
        "id": "b2Bgitsoe9Fs"
      },
      "source": [
        "# GPT-2 Solution Exploration"
      ]
    },
    {
      "cell_type": "markdown",
      "metadata": {
        "id": "FrAG8Bp_e5M1"
      },
      "source": [
        "## Getting things ready "
      ]
    },
    {
      "cell_type": "code",
      "metadata": {
        "id": "KBkpRgBCBS2_",
        "colab": {
          "base_uri": "https://localhost:8080/"
        },
        "outputId": "6a0e308a-0e20-47a5-9187-3d86cb7bdb3d"
      },
      "source": [
        "%tensorflow_version 1.x\n",
        "!pip install -q gpt-2-simple\n",
        "import gpt_2_simple as gpt2\n",
        "from datetime import datetime\n",
        "from google.colab import files\n",
        "import os"
      ],
      "execution_count": null,
      "outputs": [
        {
          "output_type": "stream",
          "text": [
            "TensorFlow 1.x selected.\n",
            "WARNING:tensorflow:\n",
            "The TensorFlow contrib module will not be included in TensorFlow 2.0.\n",
            "For more information, please see:\n",
            "  * https://github.com/tensorflow/community/blob/master/rfcs/20180907-contrib-sunset.md\n",
            "  * https://github.com/tensorflow/addons\n",
            "  * https://github.com/tensorflow/io (for I/O related ops)\n",
            "If you depend on functionality not listed there, please file an issue.\n",
            "\n"
          ],
          "name": "stdout"
        }
      ]
    },
    {
      "cell_type": "code",
      "metadata": {
        "colab": {
          "base_uri": "https://localhost:8080/"
        },
        "id": "P2h7_vnyZeV-",
        "outputId": "49fc38fc-2f85-4c41-a169-f3cf1eb8215f"
      },
      "source": [
        "! rm -rf gpt_2/\r\n",
        "! git clone https://github.com/openai/gpt-2.git \r\n",
        "! mv gpt-2 gpt_2\r\n",
        "! pip install -r gpt_2/requirements.txt"
      ],
      "execution_count": null,
      "outputs": [
        {
          "output_type": "stream",
          "text": [
            "Cloning into 'gpt-2'...\n",
            "remote: Enumerating objects: 233, done.\u001b[K\n",
            "remote: Total 233 (delta 0), reused 0 (delta 0), pack-reused 233\u001b[K\n",
            "Receiving objects: 100% (233/233), 4.38 MiB | 20.29 MiB/s, done.\n",
            "Resolving deltas: 100% (124/124), done.\n",
            "Requirement already satisfied: fire>=0.1.3 in /usr/local/lib/python3.7/dist-packages (from -r gpt_2/requirements.txt (line 1)) (0.4.0)\n",
            "Requirement already satisfied: regex==2017.4.5 in /usr/local/lib/python3.7/dist-packages (from -r gpt_2/requirements.txt (line 2)) (2017.4.5)\n",
            "Requirement already satisfied: requests==2.21.0 in /usr/local/lib/python3.7/dist-packages (from -r gpt_2/requirements.txt (line 3)) (2.21.0)\n",
            "Requirement already satisfied: tqdm==4.31.1 in /usr/local/lib/python3.7/dist-packages (from -r gpt_2/requirements.txt (line 4)) (4.31.1)\n",
            "Requirement already satisfied: six in /usr/local/lib/python3.7/dist-packages (from fire>=0.1.3->-r gpt_2/requirements.txt (line 1)) (1.15.0)\n",
            "Requirement already satisfied: termcolor in /usr/local/lib/python3.7/dist-packages (from fire>=0.1.3->-r gpt_2/requirements.txt (line 1)) (1.1.0)\n",
            "Requirement already satisfied: chardet<3.1.0,>=3.0.2 in /usr/local/lib/python3.7/dist-packages (from requests==2.21.0->-r gpt_2/requirements.txt (line 3)) (3.0.4)\n",
            "Requirement already satisfied: certifi>=2017.4.17 in /usr/local/lib/python3.7/dist-packages (from requests==2.21.0->-r gpt_2/requirements.txt (line 3)) (2020.12.5)\n",
            "Requirement already satisfied: urllib3<1.25,>=1.21.1 in /usr/local/lib/python3.7/dist-packages (from requests==2.21.0->-r gpt_2/requirements.txt (line 3)) (1.24.3)\n",
            "Requirement already satisfied: idna<2.9,>=2.5 in /usr/local/lib/python3.7/dist-packages (from requests==2.21.0->-r gpt_2/requirements.txt (line 3)) (2.8)\n"
          ],
          "name": "stdout"
        }
      ]
    },
    {
      "cell_type": "code",
      "metadata": {
        "id": "GFVaskQmzJ83"
      },
      "source": [
        "import requests\r\n",
        "\r\n",
        "url = 'https://raw.githubusercontent.com/DMinghao/TensorFlow-NLG/main/dev/gpt2/all.txt'\r\n",
        "r = requests.get(url)\r\n",
        "\r\n",
        "with open('all.txt', 'wb') as f: f.write(r.content)"
      ],
      "execution_count": null,
      "outputs": []
    },
    {
      "cell_type": "markdown",
      "metadata": {
        "id": "OfLpvtzbgbJd"
      },
      "source": [
        "### Some variables "
      ]
    },
    {
      "cell_type": "code",
      "metadata": {
        "id": "6OFnPCLADfll"
      },
      "source": [
        "model_name='774M'\r\n",
        "seed=None\r\n",
        "nsamples=1\r\n",
        "batch_size=1\r\n",
        "length=None\r\n",
        "temperature=1\r\n",
        "top_k=0\r\n",
        "top_p=1\r\n",
        "models_dir='models'\r\n",
        "\r\n",
        "file_name = \"all.txt\"\r\n",
        "test_survey = \"\"\"\r\n",
        "1) What is the reason for your visit today?\r\n",
        "Review my MRI scan from 11/10\r\n",
        "2) Are you RIGHT or LEFT handed?\r\n",
        "Right\r\n",
        "3) When did this problem start?\r\n",
        "A few years ago\r\n",
        "4) Has this problem happened before?\r\n",
        "No\r\n",
        "5) How did it start?\r\n",
        "I was injinjured in a car accaccident \r\n",
        "6) Has it changed since it started?\r\n",
        "No\r\n",
        "7) Have you seen another physician for this problem?\r\n",
        "No\r\n",
        "8) What work-up has been done for this problem?\r\n",
        "MRI Brain, Neurology Assoc.\r\n",
        "9) Do you have a personal history of cancer or tumors?\r\n",
        "No\r\n",
        "10) If you answered yes to a personal history of cancer or tumors, please relate the details of the diagnosis and prior treatments\r\n",
        "No answer\r\n",
        "11) Do you have a personal history of any disease or condition relating to the visit today?\r\n",
        "No \r\n",
        "12) Review of Systems: Do you have any of the following problems?\r\n",
        "Heat Intolerance, Cold Intolerance, Blurred Vision\r\n",
        "13) Review of Systems: Do you have any of the following problems?\r\n",
        "No answer\r\n",
        "14) Review of Systems: Do you have any of the following problems?\r\n",
        "Nausea, Back pain, Neck pain, Joint pain\r\n",
        "15) Review of Systems: Do you have any of the following problems?\r\n",
        "Anxiety, Numbness, Tingling, Weakness\r\n",
        "16) Review of Systems: Do you have any of the following problems?\r\n",
        "No answer\r\n",
        "17) Over the last two weeks how often have you been bothered by any of the following problems?\r\n",
        "Score: 10\r\n",
        "\"\"\""
      ],
      "execution_count": null,
      "outputs": []
    },
    {
      "cell_type": "markdown",
      "metadata": {
        "id": "Bj2IJLHP3KwE"
      },
      "source": [
        "### Check GPU\n",
        "\n",
        "For larger models, Tesla P100 is recommended \n",
        "\n",
        "Otherwise use 124M model"
      ]
    },
    {
      "cell_type": "code",
      "metadata": {
        "id": "sUmTooTW3osf",
        "colab": {
          "base_uri": "https://localhost:8080/"
        },
        "outputId": "58b93946-4f54-4f0b-b4cf-965ed79d5034"
      },
      "source": [
        "!nvidia-smi"
      ],
      "execution_count": null,
      "outputs": [
        {
          "output_type": "stream",
          "text": [
            "Sun Mar  7 16:34:00 2021       \n",
            "+-----------------------------------------------------------------------------+\n",
            "| NVIDIA-SMI 460.39       Driver Version: 460.32.03    CUDA Version: 11.2     |\n",
            "|-------------------------------+----------------------+----------------------+\n",
            "| GPU  Name        Persistence-M| Bus-Id        Disp.A | Volatile Uncorr. ECC |\n",
            "| Fan  Temp  Perf  Pwr:Usage/Cap|         Memory-Usage | GPU-Util  Compute M. |\n",
            "|                               |                      |               MIG M. |\n",
            "|===============================+======================+======================|\n",
            "|   0  Tesla P100-PCIE...  Off  | 00000000:00:04.0 Off |                    0 |\n",
            "| N/A   45C    P0    42W / 250W |      0MiB / 16280MiB |      0%      Default |\n",
            "|                               |                      |                  N/A |\n",
            "+-------------------------------+----------------------+----------------------+\n",
            "                                                                               \n",
            "+-----------------------------------------------------------------------------+\n",
            "| Processes:                                                                  |\n",
            "|  GPU   GI   CI        PID   Type   Process name                  GPU Memory |\n",
            "|        ID   ID                                                   Usage      |\n",
            "|=============================================================================|\n",
            "|  No running processes found                                                 |\n",
            "+-----------------------------------------------------------------------------+\n"
          ],
          "name": "stdout"
        }
      ]
    },
    {
      "cell_type": "markdown",
      "metadata": {
        "id": "0wXB05bPDYxS"
      },
      "source": [
        "### Download GPT-2 Model \n",
        "\n",
        "There are 4 released sizes of GPT-2:\n",
        "\n",
        "* `124M`: the \"small\" model, 500MB on disk.\n",
        "* `355M`: the \"medium\" model, 1.5GB on disk.\n",
        "* `774M`: the \"large\" model, 3.10GB on disk\n",
        "* `1558M`: the \"extra large\", true model. It cannot be finetuned using colab (too big).\n",
        "\n",
        "Larger models have more knowledge, but take longer to finetune and longer to generate text. "
      ]
    },
    {
      "cell_type": "code",
      "metadata": {
        "id": "P8wSlgXoDPCR"
      },
      "source": [
        "if not os.path.isdir(os.path.join(models_dir, model_name)): gpt2.download_gpt2(model_name=model_name)"
      ],
      "execution_count": null,
      "outputs": []
    },
    {
      "cell_type": "markdown",
      "metadata": {
        "id": "1Cn1AkVbdKSp"
      },
      "source": [
        "## Raw GPT-2 Implementation"
      ]
    },
    {
      "cell_type": "code",
      "metadata": {
        "id": "R1RqJOVFd4Mc"
      },
      "source": [
        "import fire\r\n",
        "import json\r\n",
        "import numpy as np\r\n",
        "import tensorflow as tf\r\n",
        "from gpt_2.src import model, encoder"
      ],
      "execution_count": null,
      "outputs": []
    },
    {
      "cell_type": "markdown",
      "metadata": {
        "id": "C5H0YBTCeQ6M"
      },
      "source": [
        "### Helper functions\r\n",
        "\r\n",
        "Adapted and modified from official gpt-2 provided example"
      ]
    },
    {
      "cell_type": "code",
      "metadata": {
        "id": "H9aIBy8Gd0Go"
      },
      "source": [
        "def top_k_logits(logits, k):\r\n",
        "    if k == 0:\r\n",
        "        # no truncation\r\n",
        "        return logits\r\n",
        "\r\n",
        "    def _top_k():\r\n",
        "        values, _ = tf.nn.top_k(logits, k=k)\r\n",
        "        min_values = values[:, -1, tf.newaxis]\r\n",
        "        return tf.where(\r\n",
        "            logits < min_values,\r\n",
        "            tf.ones_like(logits, dtype=logits.dtype) * -1e10,\r\n",
        "            logits,\r\n",
        "        )\r\n",
        "    return tf.cond(\r\n",
        "       tf.equal(k, 0),\r\n",
        "       lambda: logits,\r\n",
        "       lambda: _top_k(),\r\n",
        "    )"
      ],
      "execution_count": null,
      "outputs": []
    },
    {
      "cell_type": "code",
      "metadata": {
        "id": "ZHbO-6VOd-IQ"
      },
      "source": [
        "def top_p_logits(logits, p):\r\n",
        "    \"\"\"Nucleus sampling\"\"\"\r\n",
        "    batch, _ = logits.shape.as_list()\r\n",
        "    sorted_logits = tf.sort(logits, direction='DESCENDING', axis=-1)\r\n",
        "    cumulative_probs = tf.cumsum(tf.nn.softmax(sorted_logits, axis=-1), axis=-1)\r\n",
        "    indices = tf.stack([\r\n",
        "        tf.range(0, batch),\r\n",
        "        # number of indices to include\r\n",
        "        tf.maximum(tf.reduce_sum(tf.cast(cumulative_probs <= p, tf.int32), axis=-1) - 1, 0),\r\n",
        "    ], axis=-1)\r\n",
        "    min_values = tf.gather_nd(sorted_logits, indices)\r\n",
        "    return tf.where(\r\n",
        "        logits < min_values,\r\n",
        "        tf.ones_like(logits) * -1e10,\r\n",
        "        logits,\r\n",
        "    )\r\n"
      ],
      "execution_count": null,
      "outputs": []
    },
    {
      "cell_type": "code",
      "metadata": {
        "id": "jwSSLLzheCRQ"
      },
      "source": [
        "def sample_sequence(*, hparams, length, start_token=None, batch_size=None, context=None, temperature=1, top_k=0, top_p=1):\r\n",
        "    if start_token is None:\r\n",
        "        assert context is not None, 'Specify exactly one of start_token and context!'\r\n",
        "    else:\r\n",
        "        assert context is None, 'Specify exactly one of start_token and context!'\r\n",
        "        context = tf.fill([batch_size, 1], start_token)\r\n",
        "\r\n",
        "    def step(hparams, tokens, past=None):\r\n",
        "        lm_output = model.model(hparams=hparams, X=tokens, past=past, reuse=tf.AUTO_REUSE)\r\n",
        "\r\n",
        "        logits = lm_output['logits'][:, :, :hparams.n_vocab]\r\n",
        "        presents = lm_output['present']\r\n",
        "        presents.set_shape(model.past_shape(hparams=hparams, batch_size=batch_size))\r\n",
        "        return {\r\n",
        "            'logits': logits,\r\n",
        "            'presents': presents,\r\n",
        "        }\r\n",
        "\r\n",
        "    with tf.name_scope('sample_sequence'):\r\n",
        "        def body(past, prev, output):\r\n",
        "            next_outputs = step(hparams, prev, past=past)\r\n",
        "            logits = next_outputs['logits'][:, -1, :]  / tf.to_float(temperature)\r\n",
        "            logits = top_k_logits(logits, k=top_k)\r\n",
        "            logits = top_p_logits(logits, p=top_p)\r\n",
        "            samples = tf.multinomial(logits, num_samples=1, output_dtype=tf.int32)\r\n",
        "            return [\r\n",
        "                next_outputs['presents'] if past is None else tf.concat([past, next_outputs['presents']], axis=-2),\r\n",
        "                samples,\r\n",
        "                tf.concat([output, samples], axis=1)\r\n",
        "            ]\r\n",
        "\r\n",
        "        past, prev, output = body(None, context, context)\r\n",
        "\r\n",
        "        def cond(*args):\r\n",
        "            return True\r\n",
        "\r\n",
        "        _, _, tokens = tf.while_loop(\r\n",
        "            cond=cond, body=body,\r\n",
        "            maximum_iterations=length - 1,\r\n",
        "            loop_vars=[\r\n",
        "                past,\r\n",
        "                prev,\r\n",
        "                output\r\n",
        "            ],\r\n",
        "            shape_invariants=[\r\n",
        "                tf.TensorShape(model.past_shape(hparams=hparams, batch_size=batch_size)),\r\n",
        "                tf.TensorShape([batch_size, None]),\r\n",
        "                tf.TensorShape([batch_size, None]),\r\n",
        "            ],\r\n",
        "            back_prop=False,\r\n",
        "        )\r\n",
        "\r\n",
        "        return tokens\r\n"
      ],
      "execution_count": null,
      "outputs": []
    },
    {
      "cell_type": "markdown",
      "metadata": {
        "id": "E5_GnOy_eVb_"
      },
      "source": [
        "### Generate Text From The Raw Model"
      ]
    },
    {
      "cell_type": "code",
      "metadata": {
        "colab": {
          "base_uri": "https://localhost:8080/"
        },
        "id": "YFttXytmbotb",
        "outputId": "2a4a2a9d-2d29-43c5-afb2-2ae4503746f6"
      },
      "source": [
        "models_dir = os.path.expanduser(os.path.expandvars(models_dir))\r\n",
        "if batch_size is None:\r\n",
        "    batch_size = 1\r\n",
        "assert nsamples % batch_size == 0\r\n",
        "\r\n",
        "enc = encoder.get_encoder(model_name, models_dir)\r\n",
        "hparams = model.default_hparams()\r\n",
        "with open(os.path.join(models_dir, model_name, 'hparams.json')) as f:\r\n",
        "    hparams.override_from_dict(json.load(f))\r\n",
        "\r\n",
        "if length is None:\r\n",
        "    length = hparams.n_ctx // 2\r\n",
        "elif length > hparams.n_ctx:\r\n",
        "    raise ValueError(\"Can't get samples longer than window size: %s\" % hparams.n_ctx)\r\n",
        "\r\n",
        "with tf.Session(graph=tf.Graph()) as sess:\r\n",
        "    context = tf.placeholder(tf.int32, [batch_size, None])\r\n",
        "    np.random.seed(seed)\r\n",
        "    tf.set_random_seed(seed)\r\n",
        "    output = sample_sequence(\r\n",
        "        hparams=hparams, length=length,\r\n",
        "        context=context,\r\n",
        "        batch_size=batch_size,\r\n",
        "        temperature=temperature, top_k=top_k, top_p=top_p\r\n",
        "    )\r\n",
        "\r\n",
        "    saver = tf.train.Saver()\r\n",
        "    ckpt = tf.train.latest_checkpoint(os.path.join(models_dir, model_name))\r\n",
        "    saver.restore(sess, ckpt)\r\n",
        "\r\n",
        "    \r\n",
        "    context_tokens = enc.encode(test_survey)\r\n",
        "    generated = 0\r\n",
        "    for _ in range(nsamples // batch_size):\r\n",
        "        out = sess.run(output, feed_dict={\r\n",
        "            context: [context_tokens for _ in range(batch_size)]\r\n",
        "        })[:, len(context_tokens):]\r\n",
        "        for i in range(batch_size):\r\n",
        "            generated += 1\r\n",
        "            text = enc.decode(out[i])\r\n",
        "            print(\"=\" * 40 + \" SAMPLE \" + str(generated) + \" \" + \"=\" * 40)\r\n",
        "            print(text)\r\n",
        "    print(\"=\" * 80)"
      ],
      "execution_count": null,
      "outputs": [
        {
          "output_type": "stream",
          "text": [
            "WARNING:tensorflow:From /content/gpt_2/src/model.py:148: The name tf.variable_scope is deprecated. Please use tf.compat.v1.variable_scope instead.\n",
            "\n",
            "WARNING:tensorflow:From /content/gpt_2/src/model.py:152: The name tf.get_variable is deprecated. Please use tf.compat.v1.get_variable instead.\n",
            "\n",
            "WARNING:tensorflow:From /content/gpt_2/src/model.py:36: The name tf.rsqrt is deprecated. Please use tf.math.rsqrt instead.\n",
            "\n",
            "WARNING:tensorflow:From <ipython-input-10-edfacd476c47>:22: to_float (from tensorflow.python.ops.math_ops) is deprecated and will be removed in a future version.\n",
            "Instructions for updating:\n",
            "Use `tf.cast` instead.\n",
            "WARNING:tensorflow:From <ipython-input-9-1a6f17001e23>:15: where (from tensorflow.python.ops.array_ops) is deprecated and will be removed in a future version.\n",
            "Instructions for updating:\n",
            "Use tf.where in 2.0, which has the same broadcast rule as np.where\n",
            "WARNING:tensorflow:From <ipython-input-10-edfacd476c47>:25: multinomial (from tensorflow.python.ops.random_ops) is deprecated and will be removed in a future version.\n",
            "Instructions for updating:\n",
            "Use `tf.random.categorical` instead.\n",
            "INFO:tensorflow:Restoring parameters from models/774M/model.ckpt\n",
            "======================================== SAMPLE 1 ========================================\n",
            "How do you treat this symptom?\n",
            "Medication\n",
            "Look for symptoms of heat intolerance between 10:00pm and 2:00am\n",
            "Look for symptoms of heat tolerance between 10:00pm and 2:00am\n",
            "1) As you move about about your home and workplace, it starts to feel warm and throbbing\n",
            "2) Despite moving about, you can never quite escape your feeling of being hot\n",
            "3) However, every time you look at a window you can feel the thought force your arm out from under you and onto your head!\n",
            "4) At home this always happens only at certain times or during certain activities. If it happens on a regular basis it means you are not getting enough blood; If you want to work it means you are not getting enough nutrition and with sleep deprivation it means you are not getting enough exercise!\n",
            "5) Your clothes are sometimes kept too hot, especially if you are not dressing well\n",
            "6) You become disappointed that you haven't asked your employer or yourself to leave the, over the toilet toilet and come into the bathroom in the heat to hold your tongue and stare at that enormous bulge.\n",
            "7) Nowadays products and devices are often designed to be as comfortable as possible when turned on but when you attempt to turn them off because you see your clothes' temperature rising you feel like you are in a football stadium, not a bath!\n",
            "8) Nowadays we keep using our devices and machines, one of which is the computer which serves as an emergency medical radar with a mobile app which forecasts the slowing down or implosion of the current one.\n",
            "9) Yeah, it works really, really well!\n",
            "10) The members of your family think you are over-doing it just because you (or I!) have multiple streams of energy.\n",
            "11) You will tell them by the sight of a brand new mobile phone.\n",
            "12) So when YOUR brother or sister or your best friend comes to see you in those nasty, hot days they will absolutely be planning on carrying out a mass removal of their electrical appliances by mopeds at the last moment.\n",
            "13) You can't handle the cold. (At night: why do you feel cold? Is it the body antidermals who are heating your body? Coincidence? Neither.)\n",
            "14) You are so worried about taking off your clothes. (What in the hell you are wearing? Do you need to be tight-fitting?)\n",
            "15) Do not hesitate to stop by the doctor's\n",
            "================================================================================\n"
          ],
          "name": "stdout"
        }
      ]
    },
    {
      "cell_type": "markdown",
      "metadata": {
        "id": "LdpZQXknFNY3"
      },
      "source": [
        "## Finetuning GPT-2 (Using [GPT_2_simple](https://github.com/minimaxir/gpt-2-simple))\n",
        "\n",
        "The next cell will start the actual finetuning of GPT-2. It creates a persistent TensorFlow session which stores the training config, then runs the training for the specified number of `steps`. (to have the finetuning run indefinitely, set `steps = -1`)\n",
        "\n",
        "The model checkpoints will be saved in `/checkpoint/run1` by default. The checkpoints are saved every 500 steps (can be changed) and when the cell is stopped.\n",
        "\n",
        "\n",
        "\n",
        "**IMPORTANT NOTE:** \n",
        "- The training might time out after 4ish hours. \n",
        "- To rerun training: **restart the VM first** (Runtime -> Restart Runtime).\n",
        "\n",
        "Other optional-but-helpful parameters for `gpt2.finetune`:\n",
        "\n",
        "*  **`restore_from`**: Set to `fresh` to start training from the base GPT-2, or set to `latest` to restart training from an existing checkpoint.\n",
        "* **`sample_every`**: Number of steps to print example output\n",
        "* **`print_every`**: Number of steps to print training progress.\n",
        "* **`learning_rate`**:  Learning rate for the training. \n",
        "*  **`run_name`**: subfolder within `checkpoint` to save the model. This is useful if you want to work with multiple models (will also need to specify  `run_name` when loading the model)\n",
        "* **`overwrite`**: Set to `True` if you want to continue finetuning an existing model (w/ `restore_from='latest'`) without creating duplicate copies. "
      ]
    },
    {
      "cell_type": "code",
      "metadata": {
        "id": "aeXshJM-Cuaf",
        "colab": {
          "base_uri": "https://localhost:8080/"
        },
        "outputId": "99a16f42-8cfe-4d18-b692-d10ee73c9203"
      },
      "source": [
        "!rm -rf checkpoint/\n",
        "\n",
        "sess = gpt2.start_tf_sess()\n",
        "\n",
        "gpt2.finetune(sess,\n",
        "              dataset=file_name,\n",
        "              model_name=model_name,\n",
        "              steps=2000,\n",
        "              learning_rate = 1e-5,\n",
        "              print_every = 100, \n",
        "              sample_every = 500, \n",
        "              restore_from='fresh')"
      ],
      "execution_count": null,
      "outputs": [
        {
          "output_type": "stream",
          "text": [
            "WARNING:tensorflow:From /usr/local/lib/python3.7/dist-packages/gpt_2_simple/src/memory_saving_gradients.py:62: get_backward_walk_ops (from tensorflow.contrib.graph_editor.select) is deprecated and will be removed after 2019-06-06.\n",
            "Instructions for updating:\n",
            "Please use tensorflow.python.ops.op_selector.get_backward_walk_ops.\n",
            "Loading checkpoint models/774M/model.ckpt\n",
            "INFO:tensorflow:Restoring parameters from models/774M/model.ckpt\n"
          ],
          "name": "stdout"
        },
        {
          "output_type": "stream",
          "text": [
            "\r  0%|          | 0/1 [00:00<?, ?it/s]"
          ],
          "name": "stderr"
        },
        {
          "output_type": "stream",
          "text": [
            "Loading dataset...\n"
          ],
          "name": "stdout"
        },
        {
          "output_type": "stream",
          "text": [
            "\r100%|██████████| 1/1 [00:00<00:00,  2.65it/s]\n"
          ],
          "name": "stderr"
        },
        {
          "output_type": "stream",
          "text": [
            "dataset has 77225 tokens\n",
            "Training...\n",
            "[100 | 186.07] loss=0.31 avg=0.31\n",
            "[200 | 358.31] loss=0.32 avg=0.32\n",
            "[300 | 530.54] loss=0.25 avg=0.29\n",
            "[400 | 702.80] loss=0.20 avg=0.27\n",
            "[500 | 875.05] loss=0.15 avg=0.25\n",
            "======== SAMPLE 1 ========\n",
            " N1-PN1:\n",
            "5) What work-up has been done for this problem?\n",
            "MRI 4/14/20 wolds hospital\n",
            "6) Do you have a personal history of cancer or tumors?\n",
            "No\n",
            "7) If you answered yes to a personal history of cancer or tumors, please relate the details of the diagnosis and prior treatments\n",
            "No answer\n",
            "8) Do you have a personal history of any disease or condition relating to the visit today?\n",
            "No answer\n",
            "9) Review of Systems: Do you have any of the following problems?\n",
            "No answer\n",
            "10) Review of Systems: Do you have any of the following problems?\n",
            "Difficulty swallowing\n",
            "11) Review of Systems: Do you have any of the following problems?\n",
            "Bladder incontinence\n",
            "12) Review of Systems: Do you have any of the following problems?\n",
            "Neck pain, Joint pain\n",
            "13) Review of Systems: Do you have any of the following problems?\n",
            "No answer\n",
            "14) Review of Systems: Do you have any of the following problems?\n",
            "Weakness\n",
            "15) Review of Systems: Do you have any of the following problems?\n",
            "No answer\n",
            "16) Review of Systems: Do you have any of the following problems?\n",
            "No answer\n",
            "17) Over the last two weeks how often have you been bothered by any of the following problems?\n",
            "Score: 3   Depression Severity: Minimal or none, \n",
            "\n",
            "The patient reports the reason for today's visit is: Severe jaw pain. The patient reports that they are Right handed. The problem started 2 years ago. The patient reports the problem began Minimal to none. The problem started Pain in the left side of jaw. The patient reported no personal history of cancer or tumor. Patient scored 3 (Minimal or no depression) on PHQ9 Survey.\n",
            "\n",
            "\n",
            "1) What part of your body is your main concern today?\n",
            "Neck\n",
            "2) How have your symptoms changed since your last visit?\n",
            "Increased amount of pain in the neck and shoulders\n",
            "3) Please rate your AVERAGE amount of back or neck pain. 10 is the worse pain and 0 is no pain at all.\n",
            "4/10\n",
            "4) Please rate your AVERAGE amount of leg or arm pain. 10 is the worse pain and 0 is no pain at all.\n",
            "4/10\n",
            "7) Do you have any of the following problems?\n",
            "No answer\n",
            "8) Do you have any of the following problems?\n",
            "No answer\n",
            "9) Do you have any of the following problems?\n",
            "Back pain, Anxiety, Depression\n",
            "10) Do you have any of the following problems?\n",
            "Weakness, Numbness\n",
            "11) Please answer this survey about how your pain affects you activities\n",
            "Score: 26    Severe disability, \n",
            "12) Please answer this survey about how things bother you\n",
            "Score: 14   Depression Severity: Moderate, \n",
            "\n",
            "The patient reports that their main complaint today is: Neck.  The average amount of back or neck pain reported was 4/10. The average amount of arm or leg pain reported was 4/10. The patient scored a 26 (Severe disability) on the Oswestry Low Back Disability Questionnaire. The patient scored a 14 (Moderate depression) on the PHQ9 Depression Questionnaire.\n",
            "\n",
            "\n",
            "1) What part of your body is your main concern today?\n",
            "Low back\n",
            "2) How have your symptoms changed since your last visit?\n",
            "No answer\n",
            "3) Please rate your AVERAGE amount of back or neck pain. 10 is the worse pain and 0 is no pain at all.\n",
            "0/10\n",
            "4) Please rate your AVERAGE amount of leg or arm pain. 10 is the worse pain and 0 is no pain at all.\n",
            "4/10\n",
            "7) Do you have any of the following problems?\n",
            "Blurry vision\n",
            "8) Do you have any of the following problems?\n",
            "Sexual Dysfunction\n",
            "9) Do you have any of the following problems?\n",
            "Back pain, Neck pain, Joint pain\n",
            "10) Do you have any of the following problems?\n",
            "Weakness, Numbness\n",
            "11) Please answer this survey about how your pain affects you activities\n",
            "Score: 31    Severe disability, \n",
            "12) Please answer this survey about how things bother you\n",
            "Score: 14   Depression Severity: Moderately severe, \n",
            "\n",
            "The patient reports that their main complaint today is: Low back.  The patent reported that their symptoms have changed since their last visit by \"No answer\".  The average amount of back or neck pain reported was 0/10. The average amount of arm or leg pain reported was 4/10. The patient scored a 31 (Severe disability) on the Oswestry Low Back Disability Questionnaire. The patient scored a 14 (Moderately severe depression) on the PHQ9 Depression Questionnaire.\n",
            "\n",
            "\n",
            "1) What is the reason\n",
            "\n",
            "[600 | 1079.37] loss=0.15 avg=0.23\n",
            "[700 | 1251.52] loss=0.12 avg=0.21\n",
            "[800 | 1423.78] loss=0.06 avg=0.19\n",
            "[900 | 1596.02] loss=0.09 avg=0.18\n",
            "[1000 | 1768.18] loss=0.13 avg=0.18\n",
            "Saving checkpoint/run1/model-1000\n",
            "======== SAMPLE 1 ========\n",
            " another other\n",
            "7) What works?\n",
            "Electroshock\n",
            "8) Do you have a personal history of cancer or tumors?\n",
            "Yes\n",
            "9) If you answered yes to a personal history of cancer or tumors, please relate the details of the diagnosis and prior treatments\n",
            "breast cancer\n",
            "10) If you answered yes to a personal history of cancer or tumors, please relate the details of the current condition of the body part being studied\n",
            "cutaneous neuropathy\n",
            "11) Do you have a personal history of any disease or condition relating to the visit today?\n",
            "homosexual\n",
            "12) Review of Systems: Do you have any of the following problems?\n",
            "No answer\n",
            "13) Review of Systems: Do you have any of the following problems?\n",
            "No answer\n",
            "14) Review of Systems: Do you have any of the following problems?\n",
            "No answer\n",
            "15) Review of Systems: Do you have any of the following problems?\n",
            "No answer\n",
            "16) Review of Systems: Do you have any of the following problems?\n",
            "No answer\n",
            "17) Over the last two weeks how often have you been bothered by any of the above problems?\n",
            "Score: 3   Depression Severity: Minimal or none, \n",
            "\n",
            "The patient reports the reason for today's visit is: Follow up. The patient reports that they are Right handed. The problem started Several years ago was intermittent. Recent episodes have been sporadic. The patient reports the problem has not happened in the past. The problem started Multiple sclerosis corrected. The patient reports a personal history of cancer or tumor. Previous treatment for patient's reported cancer/tumor history includes breast cancer.\n",
            "\n",
            "\n",
            "Previous treatment for patient's reported cancer/tumor history includes breast cancer.\n",
            "\n",
            "\n",
            "The patient reports the use of the following substances: Tobacco pack a day, Alcohol just on weekends. There is no reported history of cancer or tumor. The patient has been told that they have No history of soft bones. There is  difficulty walking. There is difficulty with use of the hands. The following makes the pain/problem better: Standing  , Stretching  , Medications Gabapentin and Gaxole. There is no contract with a pain provider. The following tests were obtained for this spine problem: MRI Apr 2021. Follow up is required if the patient reports any of the following problems: Pain, Blindness, Loss of sensation. The patient is treating with another provider for this problem: Dr. Fidrych. The patient scored 3 (Minimal or no depression) on the PHQ9 Depression Questionnaire.\n",
            "\n",
            "\n",
            "1) What is the reason for your visit today?\n",
            "I thought I had vertigo  but the ENT said no after checking my ears.  So he told me my next step was a neurologist.  I have been experiencing constant dizziness, constant nausea,  some right side skin mouth numbness and a not so pleasant taste in my mouth.  Its been going on since around the beginning to middle of December, and has been debilitatin\n",
            "2) Are you RIGHT or LEFT handed?\n",
            "Right\n",
            "3) When did this problem start?\n",
            "Beginning to middle of December\n",
            "4) Has this problem happened before?\n",
            "No\n",
            "5) How did it start?\n",
            "I dont know,  started to feel weak and didnt feel quite right.  Almost like I had  a sinus infection. But the ER told me I did not.\n",
            "6) Has it changed since it started?\n",
            "No\n",
            "7) Have you seen another physician for this problem?\n",
            "Yes First went to ER at L& M then they sent me to Yale,  then Dr. Abel Donka GP then Dr. Rous an ENT then Dr. Donka recomended  Dr, Hornyak from\n",
            "8) What work-up has been done for this problem?\n",
            "CT Scan L&M December30th of my head,  then Yale gave me another CT scan of my head, MRI Yale ER December 30th head\n",
            "9) Do you have a personal history of cancer or tumors?\n",
            "No\n",
            "10) If you answered yes to a personal history of cancer or tumors, please relate the details of the diagnosis and prior treatments\n",
            "No answer\n",
            "11) Do you have a personal history of any disease or condition relating to the visit today?\n",
            "2 years ago I had my left side went all weird and I had to go to the ED on 5 different occassions.  The physician who put me on the meds said its not your fault, but I think its because of the meds\n",
            "12) Review of Systems: Do you have any of the following problems?\n",
            "Heat Intolerance, Cold Intolerance, Blurred Vision, Headache\n",
            "13) Review of Systems: Do you have any of the following problems?\n",
            "No answer\n",
            "14) Review of Systems: Do you have any of the following problems?\n",
            "Sexual Dysfunction\n",
            "15) Review of Systems: Do you have any of the following problems?\n",
            "Skin\n",
            "\n",
            "[1100 | 1995.24] loss=0.05 avg=0.16\n",
            "[1200 | 2167.35] loss=0.05 avg=0.15\n",
            "[1300 | 2339.45] loss=0.05 avg=0.14\n",
            "[1400 | 2511.52] loss=0.06 avg=0.14\n",
            "[1500 | 2683.60] loss=0.04 avg=0.13\n",
            "======== SAMPLE 1 ========\n",
            "2007)\n",
            "\n",
            "A history of soft bones\n",
            "\n",
            "See separate note\n",
            "\n",
            "Eczema\n",
            "\n",
            "No answer\n",
            "\n",
            "See foot and ankle examinations\n",
            "\n",
            "3) Please rate your AVERAGE amount of back or neck pain. 10 is the worse pain and 0 is no pain at all.\n",
            "4/10\n",
            "4) Please rate your AVERAGE amount of leg or arm pain. 10 is the worse pain and 0 is no pain at all.\n",
            "4/10\n",
            "7) Do you have any of the following problems?\n",
            "No answer\n",
            "8) Do you have any of the following problems?\n",
            "No answer\n",
            "9) Do you have any of the following problems?\n",
            "Neck pain\n",
            "10) Do you have any of the following problems?\n",
            "Weakness\n",
            "11) Please answer this survey about how your pain affects you activities\n",
            "Score: 28    Severe disability, \n",
            "12) Please answer this survey about how things bother you\n",
            "Score: 8   Depression Severity: Mild, \n",
            "\n",
            "The patient reports that their main complaint today is: Mid/Upper back.  The patent reported that their symptoms have changed since their last visit by \"Just need post op check, stitches out that was there\".  The average amount of back or neck pain reported was 4/10. The average amount of arm or leg pain reported was 4/10. The patient scored a 28 (Severe disability) on the Oswestry Low Back Disability Questionnaire. The patient scored a 8 (Mild depression) on the PHQ9 Depression Questionnaire.\n",
            "\n",
            "\n",
            "1) What is the reason for your visit today?\n",
            "Review MRI from 11/23/2020\n",
            "2) Are you RIGHT or LEFT handed?\n",
            "Right\n",
            "3) When did this problem start?\n",
            "October 2014\n",
            "4) Has this problem happened before?\n",
            "No\n",
            "5) How did it start?\n",
            "Admitted to L&M in October 2014 for an unbalanced feeling. Surgery to remove benign meningioma on January 16th 2020\n",
            "6) Has it changed since it started?\n",
            "Yes\n",
            "7) Have you seen another physician for this problem?\n",
            "Yes Dr Kureshi\n",
            "8) What work-up has been done for this problem?\n",
            "MRI Brain January 16th 2020, Still reviewing\n",
            "9) Do you have a personal history of cancer or tumors?\n",
            "Yes\n",
            "10) If you answered yes to a personal history of cancer or tumors, please relate the details of the diagnosis and prior treatments\n",
            "Benign Meningioma removed January 2020 follow up MRI every 6 months\n",
            "11) Do you have a personal history of any disease or condition relating to the visit today?\n",
            "No answer\n",
            "12) Review of Systems: Do you have any of the following problems?\n",
            "No answer\n",
            "13) Review of Systems: Do you have any of the following problems?\n",
            "No answer\n",
            "14) Review of Systems: Do you have any of the following problems?\n",
            "Neck pain\n",
            "15) Review of Systems: Do you have any of the following problems?\n",
            "No answer\n",
            "16) Review of Systems: Do you have any of the following problems?\n",
            "No answer\n",
            "17) Over the last two weeks how often have you been bothered by any of the following problems?\n",
            "Score: 0   Depression Severity: Minimal or none, \n",
            "\n",
            "The patient reports the reason for today's visit is: Review MRI from 11/23/2020. The patient reports that they are Right handed. The problem started October 2014. The patient reports the problem has not happened in the past. The problem started Admitted to L&M in October 2014 for an unbalanced feeling. Surgery to remove benign meningioma on January 16th 2020. Workup has included:MRI Brain January 16th 2020, Still reviewing. The patient reports a personal history of cancer or tumor. Previous treatment for patient's reported cancer/tumor history includes Benign Meningioma removed January 2020 follow up MRI every 6 months. Patient scored 0 (Minimal or no depression) on PHQ9 Survey.\n",
            "\n",
            "\n",
            "1) What is the reason for your visit today?\n",
            "Follow up after a fell sustaining a sm subarachnoid bleed on December 15th.\n",
            "2) Are you RIGHT or LEFT handed?\n",
            "Right\n",
            "3) When did this problem start?\n",
            " December 15th fall occurred.\n",
            "4) Has this problem happened before?\n",
            "No\n",
            "5) How did it start?\n",
            "Fell getting up from chair.\n",
            "6) Has it changed since it started?\n",
            "No\n",
            "7) Have you seen another physician for this problem?\n",
            "No\n",
            "8) What work-up has been done for this problem?\n",
            "CT Scan CT Head 12/15\n",
            "9) Do you have a personal history of cancer or tumors?\n",
            "No\n",
            "10) If you answered yes to a personal history of cancer or tumors, please relate the details of the diagnosis and prior treatments\n",
            "No answer\n",
            "11) Do\n",
            "\n",
            "[1600 | 2883.96] loss=0.03 avg=0.12\n",
            "[1700 | 3056.04] loss=0.04 avg=0.12\n",
            "[1800 | 3228.13] loss=0.06 avg=0.12\n",
            "[1900 | 3400.22] loss=0.08 avg=0.11\n",
            "[2000 | 3572.31] loss=0.03 avg=0.11\n",
            "Saving checkpoint/run1/model-2000\n",
            "WARNING:tensorflow:From /tensorflow-1.15.2/python3.7/tensorflow_core/python/training/saver.py:963: remove_checkpoint (from tensorflow.python.training.checkpoint_management) is deprecated and will be removed in a future version.\n",
            "Instructions for updating:\n",
            "Use standard file APIs to delete files with this prefix.\n"
          ],
          "name": "stdout"
        }
      ]
    },
    {
      "cell_type": "markdown",
      "metadata": {
        "id": "ClJwpF_ACONp"
      },
      "source": [
        "### Generate Text From The Trained Model"
      ]
    },
    {
      "cell_type": "markdown",
      "metadata": {
        "id": "oF4-PqF0Fl7R"
      },
      "source": [
        "Parameters for `gpt2.generate`:\n",
        "\n",
        "*  **`length`**: Number of tokens to generate (default 1023, the maximum)\n",
        "* **`temperature`**: The higher the temperature, the crazier the text (default 0.7, recommended to keep between 0.7 and 1.0)\n",
        "* **`top_k`**: Limits the generated guesses to the top *k* guesses (default 0 which disables the behavior; if the generated output is super crazy, you may want to set `top_k=40`)\n",
        "* **`top_p`**: Nucleus sampling: limits the generated guesses to a cumulative probability. (gets good results on a dataset with `top_p=0.9`)\n",
        "* **`truncate`**: Truncates the input text until a given sequence, excluding that sequence (e.g. if `truncate='<|endoftext|>'`, the returned text will include everything before the first `<|endoftext|>`). It may be useful to combine this with a smaller `length` if the input texts are short.\n",
        "*  **`include_prefix`**: If using `truncate` and `include_prefix=False`, the specified `prefix` will not be included in the returned text."
      ]
    },
    {
      "cell_type": "code",
      "metadata": {
        "id": "8DKMc0fiej4N",
        "colab": {
          "base_uri": "https://localhost:8080/"
        },
        "outputId": "e11249b6-e858-43dc-f369-19e95a5e1acd"
      },
      "source": [
        "gpt2.generate(sess,\n",
        "              length=250,\n",
        "              prefix=test_survey\n",
        "              )"
      ],
      "execution_count": null,
      "outputs": [
        {
          "output_type": "stream",
          "text": [
            "1) What is the reason for your visit today?\n",
            "Review my MRI scan from 11/10\n",
            "2) Are you RIGHT or LEFT handed?\n",
            "Right\n",
            "3) When did this problem start?\n",
            "A few years ago\n",
            "4) Has this problem happened before?\n",
            "No\n",
            "5) How did it start?\n",
            "I was injinjured in a car accaccident \n",
            "6) Has it changed since it started?\n",
            "No\n",
            "7) Have you seen another physician for this problem?\n",
            "No\n",
            "8) What work-up has been done for this problem?\n",
            "MRI Brain, Neurology Assoc.\n",
            "9) Do you have a personal history of cancer or tumors?\n",
            "No\n",
            "10) If you answered yes to a personal history of cancer or tumors, please relate the details of the diagnosis and prior treatments\n",
            "No answer\n",
            "11) Do you have a personal history of any disease or condition relating to the visit today?\n",
            "No \n",
            "12) Review of Systems: Do you have any of the following problems?\n",
            "Heat Intolerance, Cold Intolerance, Blurred Vision\n",
            "13) Review of Systems: Do you have any of the following problems?\n",
            "No answer\n",
            "14) Review of Systems: Do you have any of the following problems?\n",
            "Nausea, Back pain, Neck pain, Joint pain\n",
            "15) Review of Systems: Do you have any of the following problems?\n",
            "Anxiety, Numbness, Tingling, Weakness\n",
            "16) Review of Systems: Do you have any of the following problems?\n",
            "No answer\n",
            "17) Over the last two weeks how often have you been bothered by any of the following problems?\n",
            "Score: 10\n",
            "18) Over the last two weeks how often have you been bothered by any of the following problems?\n",
            "Score: 7\n",
            "19) Over the last two weeks how often have you been bothered by any of the following problems?\n",
            "Score: N/A\n",
            "20) What works and what doesn't work for you?\n",
            "No answer\n",
            "21) What medications do you take or have you taken for your pain or problem?\n",
            "Medications that helped 5mg percoset/325 Tylenol. Doesn't really help, deathly afraid of heights, head pain, migraines, constant pain, chest pain, constipation, urinology (bloodwork)\n",
            "\n",
            "Medications that have not helped It really doesn’t matter, medicating for anxiety, depression, and bereavement\n",
            "22) Do you have a contract with a pain provider?\n",
            "No\n",
            "23) Which of the following tests have you had for your spine problem?\n",
            "MRI 10/15/2020\n",
            "24) Which of the following treatments have you tried?\n",
            "No answer\n",
            "25) Have you ever had spine surgery in the past?\n",
            "Yes Neck surgery, vertebrobasilar surgery, a nerve tracheostomy, and cataract\n"
          ],
          "name": "stdout"
        }
      ]
    },
    {
      "cell_type": "markdown",
      "metadata": {
        "id": "wAg9IdvMBY_3"
      },
      "source": [
        "```\r\n",
        "@article{radford2019language,\r\n",
        "  title={Language Models are Unsupervised Multitask Learners},\r\n",
        "  author={Radford, Alec and Wu, Jeff and Child, Rewon and Luan, David and Amodei, Dario and Sutskever, Ilya},\r\n",
        "  year={2019}\r\n",
        "}\r\n",
        "```"
      ]
    }
  ]
}